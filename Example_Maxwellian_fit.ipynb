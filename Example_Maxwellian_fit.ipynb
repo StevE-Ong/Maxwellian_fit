{
 "cells": [
  {
   "cell_type": "code",
   "execution_count": 1,
   "id": "bored-library",
   "metadata": {},
   "outputs": [],
   "source": [
    "import matplotlib.pyplot as plt\n",
    "import numpy as np\n",
    "import matplotlib as mpl\n",
    "import figformat \n",
    "import Maxwellian_fit as ft\n",
    "fig_width,fig_height,params=figformat.figure_format(fig_width=3.4,fig_height=2)\n",
    "mpl.rcParams.update(params)"
   ]
  },
  {
   "cell_type": "code",
   "execution_count": 2,
   "id": "seventh-momentum",
   "metadata": {},
   "outputs": [],
   "source": [
    "counts, energy = np.loadtxt(       \n",
    "    \"histogram_1.dat\",           \n",
    "    unpack=True,\n",
    "    usecols=[0,1],\n",
    "    dtype=np.float,\n",
    ")"
   ]
  },
  {
   "cell_type": "code",
   "execution_count": 3,
   "id": "received-correlation",
   "metadata": {},
   "outputs": [
    {
     "name": "stdout",
     "output_type": "stream",
     "text": [
      "intercept: 9.497133812115202\n",
      "gradient: -0.011036384383502774\n",
      "R-squared: 0.9957819166079258\n",
      "Temperature [MeV]: 39.4\n"
     ]
    }
   ],
   "source": [
    "Temperature = ft.Maxwellian_fit(Emin=100,Emax=450,counts=counts,energy=energy)"
   ]
  },
  {
   "cell_type": "code",
   "execution_count": 9,
   "id": "opposed-validity",
   "metadata": {
    "scrolled": true
   },
   "outputs": [
    {
     "data": {
      "image/png": "[encoded data removed]",
      "text/plain": [
       "<Figure size 244.8x144 with 1 Axes>"
      ]
     },
     "metadata": {},
     "output_type": "display_data"
    }
   ],
   "source": [
    "ax = plt.subplot()\n",
    "ax.plot(\n",
    "    energy, \n",
    "    counts, \n",
    ")\n",
    "\n",
    "ax.plot(\n",
    "    energy,\n",
    "    (8e9)*np.exp(-energy/Temperature),\n",
    "    color='green',\n",
    "    ls='--',\n",
    ")\n",
    "\n",
    "ax.text(0.2*energy.max(),1e8,\n",
    "        f\"$T_e=$ \"+str(Temperature)+\"$\\, \\mathrm{MeV}$\",\n",
    "        color='green')\n",
    "\n",
    "ax.set(\n",
    "    xlim=(0,600),\n",
    "    ylim=(1e3,1e11),\n",
    "    xlabel=\"Energy (MeV)\",\n",
    "    ylabel=r\"$dN/dE~(\\mathrm{arb. units})$\",\n",
    "    yscale='log',\n",
    ")\n",
    "\n",
    "ax.minorticks_on()\n",
    "fig = plt.gcf()\n",
    "fig.patch.set_facecolor('white')\n",
    "plt.tight_layout()   \n",
    "fig.savefig(\n",
    "    \"histogram.png\",\n",
    "    format='png',\n",
    "    dpi=300, \n",
    "    bbox_inches='tight',\n",
    ") \n",
    "plt.show()"
   ]
  },
  {
   "cell_type": "code",
   "execution_count": null,
   "id": "departmental-roots",
   "metadata": {},
   "outputs": [],
   "source": []
  }
 ],
 "metadata": {
  "kernelspec": {
   "display_name": "Python 3",
   "language": "python",
   "name": "python3"
  },
  "language_info": {
   "codemirror_mode": {
    "name": "ipython",
    "version": 3
   },
   "file_extension": ".py",
   "mimetype": "text/x-python",
   "name": "python",
   "nbconvert_exporter": "python",
   "pygments_lexer": "ipython3",
   "version": "3.8.8"
  }
 },
 "nbformat": 4,
 "nbformat_minor": 5
}
